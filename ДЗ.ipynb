{
 "cells": [
  {
   "cell_type": "code",
   "execution_count": 42,
   "metadata": {},
   "outputs": [
    {
     "name": "stdout",
     "output_type": "stream",
     "text": [
      "5\n",
      "1\n",
      "2\n",
      "105.0\n"
     ]
    }
   ],
   "source": [
    "import numpy as np\n",
    "\n",
    "n = int(input())\n",
    "y = int(input())\n",
    "x = int(input())\n",
    "step = np.arange(n)\n",
    "s = np.ones((n))\n",
    "s.fill(y)\n",
    "y_mat = s**step[:, np.newaxis]\n",
    "step = np.arange(n)\n",
    "s = np.ones((n))\n",
    "s.fill(x)\n",
    "x_mat = s[:, np.newaxis] * step\n",
    "y_mat = np.tril(y_mat, -1)\n",
    "x_mat = np.tril(x_mat.transpose(), -1)\n",
    "x_mat = x_mat.transpose()\n",
    "res = x_mat+y_mat\n",
    "res = res + np.eye(n, k=0)\n",
    "print(np.linalg.det(res).round())"
   ]
  },
  {
   "cell_type": "code",
   "execution_count": null,
   "metadata": {},
   "outputs": [],
   "source": [
    "import numpy as np\n",
    "n = int(input())\n",
    "m = int(input())\n",
    "x = list(map(int, input().split()))\n",
    "x = np.array(x)\n",
    "x\n"
   ]
  },
  {
   "cell_type": "code",
   "execution_count": 1,
   "metadata": {},
   "outputs": [
    {
     "data": {
      "text/plain": [
       "'C:\\\\Users\\\\Пользователь\\\\PycharmProjects'"
      ]
     },
     "execution_count": 1,
     "metadata": {},
     "output_type": "execute_result"
    }
   ],
   "source": [
    "pwd"
   ]
  },
  {
   "cell_type": "code",
   "execution_count": null,
   "metadata": {},
   "outputs": [],
   "source": [
    "import pandas as pd\n",
    "name = input()\n",
    "df = pd.read_csv('{}'.format(name), sep='\\t')\n",
    "#df['res1'] = df['male_dummy'] * df['instagram_dummy'] + df['male_dummy'] * df['twitter_dummy']\n",
    "df = df[df.male_dummy == 1]\n",
    "df['res'] = df['instagram_dummy'] + df['twitter_dummy']\n",
    "df = df[df.res != 0]\n",
    "print(df.shape[0])"
   ]
  },
  {
   "cell_type": "code",
   "execution_count": 1,
   "metadata": {},
   "outputs": [
    {
     "name": "stdout",
     "output_type": "stream",
     "text": [
      "kl\n",
      "21\n"
     ]
    }
   ],
   "source": [
    "import pandas as pd\n",
    "name = input()\n",
    "df = pd.read_csv('test_data.csv', sep='\\t')\n",
    "#df['res1'] = df['male_dummy'] * df['instagram_dummy'] + df['male_dummy'] * df['twitter_dummy']\n",
    "df = df[df.male_dummy == 1]\n",
    "df['res'] = df['instagram_dummy'] + df['twitter_dummy']\n",
    "df = df[df.res != 0]\n",
    "print(df.shape[0])"
   ]
  },
  {
   "cell_type": "code",
   "execution_count": null,
   "metadata": {},
   "outputs": [],
   "source": [
    "import pandas as pd\n",
    "df = pd.read_csv('test_data.csv', sep='\\t')\n",
    "#df['res1'] = df['male_dummy'] * df['instagram_dummy'] + df['male_dummy'] * df['twitter_dummy']\n",
    "df = df[df.male_dummy == 1]\n",
    "df['res'] = df['instagram_dummy'] + df['twitter_dummy']\n",
    "df = df[df.res != 0]\n",
    "print(df.shape[0])"
   ]
  },
  {
   "cell_type": "code",
   "execution_count": 8,
   "metadata": {},
   "outputs": [
    {
     "name": "stdout",
     "output_type": "stream",
     "text": [
      "['Анжелика Искандерова' 'Рустам Магомедов' 'Оля Исупова'\n",
      " 'Поля Гребенникова' 'Полина Бурмистрова' 'Маша Кондрахина'\n",
      " 'Екатерина Пушкаренко' 'Катюша Сударева' 'Кирилл Емельянов'\n",
      " 'Максим Васекин']\n"
     ]
    }
   ],
   "source": [
    "import pandas as pd\n",
    "df = pd.read_csv('test_data.csv', sep='\\t')\n",
    "df = df.sort_values(by=['followers_cnt'], ascending=False)\n",
    "df['res'] = df['first_name'] + ' ' + df['last_name'] \n",
    "a = df.head(10)\n",
    "print(a['res'].values)"
   ]
  },
  {
   "cell_type": "code",
   "execution_count": 1,
   "metadata": {},
   "outputs": [
    {
     "name": "stdout",
     "output_type": "stream",
     "text": [
      "test_data.csv\n",
      "21\n"
     ]
    }
   ],
   "source": [
    "import pandas as pd\n",
    "name = input()\n",
    "df = pd.read_csv('{}'.format(name), sep='\\t')\n",
    "#df['res1'] = df['male_dummy'] * df['instagram_dummy'] + df['male_dummy'] * df['twitter_dummy']\n",
    "df = df[df.male_dummy == 1]\n",
    "df['res'] = df['instagram_dummy'] + df['twitter_dummy']\n",
    "df = df[df.res != 0]\n",
    "print(df.shape[0])"
   ]
  },
  {
   "cell_type": "code",
   "execution_count": null,
   "metadata": {},
   "outputs": [],
   "source": []
  },
  {
   "cell_type": "code",
   "execution_count": null,
   "metadata": {},
   "outputs": [],
   "source": []
  },
  {
   "cell_type": "code",
   "execution_count": null,
   "metadata": {},
   "outputs": [],
   "source": []
  },
  {
   "cell_type": "code",
   "execution_count": null,
   "metadata": {},
   "outputs": [],
   "source": []
  },
  {
   "cell_type": "code",
   "execution_count": null,
   "metadata": {},
   "outputs": [],
   "source": []
  },
  {
   "cell_type": "code",
   "execution_count": null,
   "metadata": {},
   "outputs": [],
   "source": []
  }
 ],
 "metadata": {
  "kernelspec": {
   "display_name": "Python 3",
   "language": "python",
   "name": "python3"
  },
  "language_info": {
   "codemirror_mode": {
    "name": "ipython",
    "version": 3
   },
   "file_extension": ".py",
   "mimetype": "text/x-python",
   "name": "python",
   "nbconvert_exporter": "python",
   "pygments_lexer": "ipython3",
   "version": "3.7.4"
  }
 },
 "nbformat": 4,
 "nbformat_minor": 2
}
