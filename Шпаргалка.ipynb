{
 "cells": [
  {
   "cell_type": "code",
   "execution_count": 2,
   "metadata": {},
   "outputs": [
    {
     "ename": "KeyboardInterrupt",
     "evalue": "",
     "output_type": "error",
     "traceback": [
      "\u001b[1;31m---------------------------------------------------------------------------\u001b[0m",
      "\u001b[1;31mKeyboardInterrupt\u001b[0m                         Traceback (most recent call last)",
      "\u001b[1;32m<ipython-input-2-56d1ecaadc7c>\u001b[0m in \u001b[0;36m<module>\u001b[1;34m\u001b[0m\n\u001b[0;32m      4\u001b[0m     \u001b[1;32mif\u001b[0m \u001b[0mtext\u001b[0m\u001b[1;33m[\u001b[0m\u001b[0mi\u001b[0m\u001b[1;33m]\u001b[0m \u001b[1;33m==\u001b[0m \u001b[1;34m\"е\"\u001b[0m\u001b[1;33m:\u001b[0m\u001b[1;33m\u001b[0m\u001b[1;33m\u001b[0m\u001b[0m\n\u001b[0;32m      5\u001b[0m         \u001b[0mee\u001b[0m \u001b[1;33m=\u001b[0m \u001b[1;36m1\u001b[0m\u001b[1;33m\u001b[0m\u001b[1;33m\u001b[0m\u001b[0m\n\u001b[1;32m----> 6\u001b[1;33m         \u001b[1;32mwhile\u001b[0m \u001b[0mi\u001b[0m\u001b[1;33m+\u001b[0m\u001b[1;36m1\u001b[0m  \u001b[1;33m<\u001b[0m \u001b[0mlen\u001b[0m\u001b[1;33m(\u001b[0m\u001b[0mtext\u001b[0m\u001b[1;33m)\u001b[0m \u001b[1;32mand\u001b[0m \u001b[0mtext\u001b[0m\u001b[1;33m[\u001b[0m\u001b[0mi\u001b[0m\u001b[1;33m+\u001b[0m\u001b[1;36m1\u001b[0m\u001b[1;33m]\u001b[0m \u001b[1;33m==\u001b[0m \u001b[1;34m\"е\"\u001b[0m\u001b[1;33m:\u001b[0m\u001b[1;33m\u001b[0m\u001b[1;33m\u001b[0m\u001b[0m\n\u001b[0m\u001b[0;32m      7\u001b[0m             \u001b[0mee\u001b[0m \u001b[1;33m+=\u001b[0m \u001b[1;36m1\u001b[0m\u001b[1;33m\u001b[0m\u001b[1;33m\u001b[0m\u001b[0m\n\u001b[0;32m      8\u001b[0m         \u001b[1;32mif\u001b[0m \u001b[0mee\u001b[0m \u001b[1;33m>\u001b[0m \u001b[0mmax_ee\u001b[0m\u001b[1;33m:\u001b[0m\u001b[1;33m\u001b[0m\u001b[1;33m\u001b[0m\u001b[0m\n",
      "\u001b[1;31mKeyboardInterrupt\u001b[0m: "
     ]
    }
   ],
   "source": [
    "text = \"праздники ееееееееее\"\n",
    "max_ee = 0\n",
    "for i in range(len(text)):\n",
    "    if text[i] == \"е\":\n",
    "        ee = 1\n",
    "        while i+1  < len(text) and text[i+1] == \"е\":\n",
    "            ee += 1\n",
    "        if ee > max_ee:\n",
    "            max_ee = ee\n",
    "max_ee            "
   ]
  },
  {
   "cell_type": "code",
   "execution_count": 4,
   "metadata": {},
   "outputs": [
    {
     "data": {
      "text/plain": [
       "5"
      ]
     },
     "execution_count": 4,
     "metadata": {},
     "output_type": "execute_result"
    }
   ],
   "source": [
    "text = \"праздники ееееееееее\"\n",
    "text.find('ее')\n",
    "text.count('ее')"
   ]
  },
  {
   "cell_type": "code",
   "execution_count": 7,
   "metadata": {},
   "outputs": [
    {
     "data": {
      "text/plain": [
       "-1"
      ]
     },
     "execution_count": 7,
     "metadata": {},
     "output_type": "execute_result"
    }
   ],
   "source": [
    "text.find('еееееео')"
   ]
  },
  {
   "cell_type": "code",
   "execution_count": 24,
   "metadata": {},
   "outputs": [
    {
     "data": {
      "text/plain": [
       "1"
      ]
     },
     "execution_count": 24,
     "metadata": {},
     "output_type": "execute_result"
    }
   ],
   "source": [
    "text = \"е\"\n",
    "f = 'е'\n",
    "ee = 0\n",
    "  \n",
    "while text.count(f) >= 1:\n",
    "    f += 'е'\n",
    "    ee += 1\n",
    "ee    "
   ]
  },
  {
   "cell_type": "code",
   "execution_count": 20,
   "metadata": {},
   "outputs": [
    {
     "data": {
      "text/plain": [
       "2"
      ]
     },
     "execution_count": 20,
     "metadata": {},
     "output_type": "execute_result"
    }
   ],
   "source": [
    "text = \"оп ееее\"\n",
    "f = 'ее'\n",
    "ee = text.count(f)\n",
    "ee"
   ]
  },
  {
   "cell_type": "code",
   "execution_count": null,
   "metadata": {},
   "outputs": [],
   "source": []
  },
  {
   "cell_type": "code",
   "execution_count": null,
   "metadata": {},
   "outputs": [],
   "source": []
  },
  {
   "cell_type": "code",
   "execution_count": 4,
   "metadata": {},
   "outputs": [
    {
     "name": "stdout",
     "output_type": "stream",
     "text": [
      "<html lang=\"ru\">\n",
      "<head>\n",
      "<meta charset=\"utf-8\"/>\n",
      "<title>Проверка браузера</title>\n",
      "<meta content=\"width=device-width, initial-scale=1\" name=\"viewport\"/>\n",
      "<style>html{background:#f4f4f4}body,html{height:100%}body{font-family:Verdana,Tahoma,Arial,sans-serif}main{background:#fff;border:1px solid #e8e8e8;border-radius:3px;padding-bottom:50px}main>img{display:block}h1{font-weight:400}p a,p a:hover,p a:visited{color:#2b87db;text-decoration:none;border-bottom:1px solid transparent;transition:color .15s,border-color .15s}p a:hover{color:#256ba5;border-color:#007aeb;border-color:rgba(0,122,235,.3)}footer a{background:#f3f5f6;border-radius:3px}@media (min-width:704px){body{padding:0 20px;min-width:704px;max-width:1376px;min-height:625px;margin:0 auto;box-sizing:border-box;display:flex;align-items:center;justify-content:center}main{margin-left:8.333333333%;margin-right:8.333333333%;width:100%}main>*{margin-left:10.15%;margin-right:10.15%}main>img{margin-top:35px;margin-bottom:35px;position:relative;left:-34px}h1{margin-top:42px;font-size:38px;line-height:46px}h1,p{margin-bottom:20px}p{margin-top:20px;font-size:18px;line-height:26px}footer{margin-top:40px;margin-bottom:116px}footer a{display:inline-block;margin-right:14px}}@media (max-width:703px){body{margin:0;padding:20px 15px;min-width:320px}body,main{box-sizing:border-box}main{height:94%;height:100%;min-height:515px}main>*{margin-left:30px;margin-right:30px}main>img{margin-top:20px;margin-bottom:20px;width:170px;position:relative;left:-15px}h1{margin-top:23px;font-size:30px;line-height:46px}h1,p{margin-bottom:17px}p{margin-top:17px;font-size:14px;line-height:22px}footer{margin-top:40px;margin-bottom:60px}footer a{display:block;margin-bottom:14px}footer a:first-child{width:133px}footer a:last-child{width:153px}}</style>\n",
      "<meta content=\"12\" http-equiv=\"refresh\"/>\n",
      "<script type=\"text/javascript\">\n",
      "  //<![CDATA[\n",
      "  (function(){\n",
      "    \n",
      "    window._cf_chl_opt={\n",
      "      cvId: \"1\",\n",
      "      cType: \"non-interactive\",\n",
      "      cNounce: \"46958\",\n",
      "      cRay: \"6001a78e3aa313ba\",\n",
      "      cHash: \"3734da61871396f\",\n",
      "      cFPWv: \"g\",\n",
      "      cRq: {\n",
      "        ru: \"aHR0cHM6Ly93d3cuY2lhbi5ydS9zYWxlL2ZsYXQvMjQ1MTc0OTY4\",\n",
      "        ra: \"cHl0aG9uLXJlcXVlc3RzLzIuMjIuMA==\",\n",
      "        rm: \"R0VU\",\n",
      "        d: \"Pgl5LRvZlIavEFk5GM/P05iRzBagohOYKPGMHiaIElXd0l26bNtcnjzkideTz+XpRHxGavWTx1Jlx2ltS9WgAnGmxmfpI1ZGDDxmY1u6F1DsUPuP/qkjwyZ/is1rKajPbEQnVrrx/TbQqsM7i7+vedZYwoGH+SiAr9ZqxiK2XCLBjlYeSYB2X7CPHLuQuIEFk+qAkdYRlX8NmcdYKVk4iagE0Q35RsAr03IRqCKM0Ar21PZu9Km7Ap1GjMr42WnCOFUpqMkLkHumkrxSDYy1yXhgflTOJ7/NeJqHeechQXQFJ/VfDFhoJUr0NSQUVgkFlPVxsd4eW6/xgHPbbVO1klKcumROSBfYsEUPEBqp4Yqv5Kz7gg3XgzZPfhLe3hafPL/bSeWwVnAtNugfm0G6nmIenh977U1hcfv5rf5Sk462GaPhm21erLu8NePLj06Bpry3MBBguSmIHqBmvQdkIhmjVfO3R5rcc0o43aGu9T/z73JoXVtzKe6pIAlzBEBJL6ecbdzjz8XqoERh/SiOqQU0fTAj6L6lryFF2KRv/1mRzZUkWhKIX8zm2q6Cxv08vOWsO3VFonPHAFXzTMm07BMafZuKI6O8ykt7RMuCJNGOvOIIkPdVg1XtA6O/KYVrkhV/knhs16yui9HvAzTOiSxw3shmBy1JiBdtlaZ4kGE05GcffCLTOakL92h9/UOh9vfAKDKo7sgTJ/IGjajje8/bHGEYgLQXA7ftj0ZQBm+x3MHGL3i0ezgrrFIJMDVI8yQmwYyqtkvI4eepxr7M8dTH65iyvG96Y1LwDKHxqko=\",\n",
      "        t: \"MTYwNzcxNTM4Ni42MDIwMDA=\",\n",
      "        m: \"bS8eOGTj3mgbWRJO05/6liei7KPdOc+/b1lJhpMre/0=\",\n",
      "        i1: \"DWYcu8YJG+vesNWojqza8A==\",\n",
      "        i2: \"iMzymuAh43TUKaeGBp4Svg==\",\n",
      "        uh: \"JnPNhFrP9JDZz++jrWFNK99fEBZafo8DSm+TpH36hUY=\",\n",
      "        hh: \"ZNW5b9HMOM/Jb3NyS/h0f2AZOmkdm4XLGLjbCQ4wWec=\",\n",
      "      }\n",
      "    }\n",
      "    window._cf_chl_enter = function(){window._cf_chl_opt.p=1};\n",
      "    \n",
      "    var a = function() {try{return !!window.addEventListener} catch(e) {return !1} },\n",
      "    b = function(b, c) {a() ? document.addEventListener(\"DOMContentLoaded\", b, c) : document.attachEvent(\"onreadystatechange\", b)};\n",
      "    b(function(){\n",
      "      var cookiesEnabled=(navigator.cookieEnabled)? true : false;\n",
      "      var cookieSupportInfix=cookiesEnabled?'/nocookie':'/cookie';\n",
      "      var a = document.getElementById('cf-content');a.style.display = 'block';\n",
      "      var isIE = /(MSIE|Trident\\/|Edge\\/)/i.test(window.navigator.userAgent);\n",
      "      var trkjs = isIE ? new Image() : document.createElement('img');\n",
      "      trkjs.setAttribute(\"src\", \"/cdn-cgi/images/trace/jschal/js\"+cookieSupportInfix+\"/transparent.gif?ray=6001a78e3aa313ba\");\n",
      "      trkjs.id = \"trk_jschal_js\";\n",
      "      trkjs.setAttribute(\"alt\", \"\");\n",
      "      document.body.appendChild(trkjs);\n",
      "      \n",
      "      var cpo = document.createElement('script');\n",
      "      cpo.type = 'text/javascript';\n",
      "      cpo.src = \"/cdn-cgi/challenge-platform/h/g/orchestrate/jsch/v1\";\n",
      "      var done = false;\n",
      "      cpo.onload = cpo.onreadystatechange = function() {\n",
      "        if (!done && (!this.readyState || this.readyState === \"loaded\" || this.readyState === \"complete\")) {\n",
      "          done = true;\n",
      "          cpo.onload = cpo.onreadystatechange = null;\n",
      "          window._cf_chl_enter()\n",
      "        }\n",
      "      };\n",
      "      document.getElementsByTagName('head')[0].appendChild(cpo);\n",
      "    \n",
      "    }, false);\n",
      "  })();\n",
      "  //]]>\n",
      "</script>\n",
      "</head>\n",
      "<body>\n",
      "<main>\n",
      "<img alt=\"База объявлений ЦИАН\" src=\"data:image/gif;base64,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\"/>\n",
      "<header>\n",
      "<h2>Мы проверяем ваш браузер.</h2>\n",
      "<p>Через 5 секунд вы попадете на страницу, которую попытались открыть...</p>\n",
      "<p>Если этого не произошло - отправьте следующий ip-адрес на почту <a href=\"mailto:support@cian.ru\">support@cian.ru</a> с описанием проблемы</p>\n",
      "<iframe src=\"https://www.cian.ru/ip\" style=\"border: none\"></iframe>\n",
      "<p><div class=\"cf-browser-verification cf-im-under-attack\">\n",
      "<noscript>\n",
      "<h1 data-translate=\"turn_on_js\" style=\"color:#bd2426;\">Please turn JavaScript on and reload the page.</h1>\n",
      "</noscript>\n",
      "<div id=\"cf-content\" style=\"display:none\">\n",
      "<div id=\"cf-bubbles\">\n",
      "<div class=\"bubbles\"></div>\n",
      "<div class=\"bubbles\"></div>\n",
      "<div class=\"bubbles\"></div>\n",
      "</div>\n",
      "<h1><span data-translate=\"checking_browser\">Checking your browser before accessing</span> cian.ru.</h1>\n",
      "<div class=\"cookie-warning\" data-translate=\"turn_on_cookies\" id=\"no-cookie-warning\" style=\"display:none\">\n",
      "<p data-translate=\"turn_on_cookies\" style=\"color:#bd2426;\">Please enable Cookies and reload the page.</p>\n",
      "</div>\n",
      "<p data-translate=\"process_is_automatic\">This process is automatic. Your browser will redirect to your requested content shortly.</p>\n",
      "<p data-translate=\"allow_5_secs\">Please allow up to 5 seconds…</p>\n",
      "</div>\n",
      "<form action=\"/sale/flat/245174968?__cf_chl_jschl_tk__=51b4f4db7a2eddecfc3da79d0533514dd714e304-1607715386-0-ASIG-CJcFA_fPaZjh9PAp7wLwqX32R7Bb9uV-MTsNl1ZxdMnGAGIrCLrml0FltXSNpJo_GQKuJ-Eu3N1bQnCdl-OZc3PTT1y6xi7F2zGC42cCKop4Y_FHjzJ0yyovybabQd2eFIMmyQ7Aj1KbtWHrc8YcSC_K9SjMvIZPWwCguEGkJoKjhe9uMgnqtRVuI8dpdT8pWt7XFH3WXOfELhZdDQlSlPKfO19eiFsOmZbgiqWem9eLb6v0e60EoykFTJaPP2PAhG4yzoGLc8TL4PVB-69QGlH2owOBiEJiBrppXqGjR7O3BRufbsTfI5VacZhveScExfIZ_IoefU0aoYTlLhZ0f4Rzq4TSZ9w7_sRjfzPqaEM_f4ab__07anrUHUSWgEUQd451SHSi3_G3IKV7kA\" class=\"challenge-form\" enctype=\"application/x-www-form-urlencoded\" id=\"challenge-form\" method=\"POST\">\n",
      "<input name=\"r\" type=\"hidden\" value=\"ed55ac873a17033fdc2a0326f2738afd1caee52f-1607715386-0-AewHbN00YZd2kkqdi446IplsLDGOIDJrSaBX98tBkHZBTX4mfHJhJhhUA+/xFIOc/df9LP/htf9FKeeHR73KvLoAQjl5O2WCFtM2TI0JcQJlkDgHJXzqAgDMimb81r5h6bt+fQ0lCUzbj4BPTJb1xzpNxXa4Tinug/yOSZdu3f8oCI7IRuL0NO9ss9p4olT5kF7c8HPwrDhy2Sx0XqYbMIKgbxxGE+3hSPTWPVRbccll2yTOIspWp+8jAzKLpQjM0vX9ydMv0nEpP3tLgUfyRjzJdODfD0dSKJAK6vaeD1bGOKBZMbQMXhuq+0Px0MteyKnDY0bhv2RovjHm91JK2mHjDcvU6Qrf3AiMLp8mp9GiZxou+oid5hbxxGaX0KkxU/GfB8/DtuqYMX9nhpyic7rFyWvu10RKEJctRa4aoxT2C8qh8SOmSBB7S4ZSnmE0ZWx/0ziGwaxFhl5Cp+5IRx6Nz6mO9F+TDKscfPoOJPnrWa/fu9t/Aor42O/Q6dMvQ0XXyi2h5/uelxB8y9ebp902mgD80WDmAsLFqnmdGPUoEaBDNgatmu+GalnJCtOTQOQwv3Q6ttPucrx3P2uy/CCDjNyF7Tt1NasDBmO4dNVUee+kBLWLTRSL7xd4uP8mueaM00l8aPG5nZZbCoFMLxWCiCU/7bqK04Nc2HwLbqKZVvpaC1NB+GvoSwHiKpdgvQIXclOx299JgllvjFMgmACK5Xdc1Jr5IQTbxCAhSBp4aXOuQv1y20ddC8Mm3jkiR3PtSp5fUsxcTox3JO2/mUc96wF+8edxuEwpCphN3FqJQAogs+fqaNSZX8rdqSohNgrEUITLhaOnDbjA48SAh+MgmdGdzNYrMrFaENHYkkCs87pcECBXgefTV6K2Hqnq6KxDFmlz+tEPFJl/QsigsIKrSn7y3RNOHI99qgCXlXe5NTBl7aWwJahXWYysfvme2z/LjMloCBqy1INQO2994AaEoImjet8lXDyrrn0224iftbp6Maulk4COtq6h7GJgA/ScLFzGIU2lmQuKCgDgGf9D4q5q22jAm3AWUBdAyBzb9dZm1okwObGSFv5tWShTEmjRjb3C6miu7cWPzt6MsFiaOBXhkyaSyPxI6inM0bt4+fMLyTUQxKzPBrZrVfDY/K4QuBxCRXf9mixzmq7tsZO0IrwwkU17ASYOdh+I/cAtMTPYSKAU3WeYjs78l/oHv1PDFfotBY37y0kHmgZthWU07ayDxDxPYhUTwMSYu/mUR3kXjhT0xSDg77MIq+HvkTJK4ILjxZvFU4gOveP9Y+EowaD++YBuPcX85HdZtZVEsx8e36XqF3BWgefMHVqEhNA/pcSk49lpN+lMpajH44jZ/FxtKe+PigGhPW1dUqicQ4+rbGcBgOd8RcoFCfTftgkH7W3Q/PvGKSSrfSLTcfp4tTLiNSnYSWNmYGYP9lIMQgF/YZsstSEYTyzFkXWl3Mde2FxFZryjki+GI9k7yjerlDJtdHDDACJ/SJt6ZNtWXObKAi0h3O78O7CR0AABGmZJcaEkfokiCDfrMjsNHHOVBf2T5NIUs4mcJs3NGU52uf67ejwk3p9cJsyYiETt4PcoJWbwcayD7fm3NBGK0Ahnml8y9unWoeos4cwfPm6LC8X6lP3MsX9jIXhQHkoX2y+JtW+3wB/SKCzj2Bxx0aW1GP+O7wLtBmj8L9v1eZ7cFzUiegYMQm6NxN4pDkDvkg==\"/>\n",
      "<input id=\"jschl-vc\" name=\"jschl_vc\" type=\"hidden\" value=\"d3a67420d165cfcd9149fddf60c81a1e\"/>\n",
      "<!-- <input type=\"hidden\" value=\"\" id=\"jschl-vc\" name=\"jschl_vc\"/> -->\n",
      "<input name=\"pass\" type=\"hidden\" value=\"1607715390.602-PaxgvPxV49\"/>\n",
      "<input id=\"jschl-answer\" name=\"jschl_answer\" type=\"hidden\"/>\n",
      "</form>\n",
      "<div id=\"trk_jschal_nojs\" style=\"background-image:url('/cdn-cgi/images/trace/jschal/nojs/transparent.gif?ray=6001a78e3aa313ba')\"> </div>\n",
      "</div>\n",
      "</p>\n",
      "</header>\n",
      "</main>\n",
      "</body>\n",
      "</html>\n"
     ]
    }
   ],
   "source": [
    "import numpy as np\n",
    "\n",
    "from lxml import html\n",
    "import requests\n",
    "from bs4 import BeautifulSoup\n",
    "\n",
    "urll = 'https://www.cian.ru/sale/flat/245174968'\n",
    "kek = requests.get(urll)\n",
    "soup = BeautifulSoup(kek.text, 'html.parser')\n",
    "print(soup)"
   ]
  },
  {
   "cell_type": "code",
   "execution_count": null,
   "metadata": {},
   "outputs": [],
   "source": [
    "#МАШИННОЕ ОБУЧЕНИЕ\n",
    "import numpy as np\n",
    "import pandas as pd\n",
    "from sklearn.model_selection import train_test_split, cross_val_score, GridSearchCV\n",
    "\n",
    "from sklearn.linear_model import LinearRegression\n",
    "from sklearn.tree import DecisionTreeRegressor\n",
    "\n",
    "from sklearn.metrics import mean_squared_error, r2_score\n",
    "\n",
    "from sklearn.preprocessing import PolynomialFeatures\n",
    "from sklearn.pipeline import Pipeline\n",
    "\n",
    "scaler = StandardScaler().fit(X) #нормализует (норм распределение) данные\n",
    "reg = LinearRegression().fit(X_test, y_test) #обучает лин регрессию на тестовых данных\n",
    "reg.coef_ #выдает найденных коэффициенты для обученной регрессии\n",
    "pred_train = reg.predict(X_train) #вычисляет предположительное значение y с помощью тренировачных значений x\n",
    "mean_squared_error(y_train, pred_train) #находит сренее квадратное отклонение (MSE)"
   ]
  },
  {
   "cell_type": "code",
   "execution_count": null,
   "metadata": {},
   "outputs": [],
   "source": [
    "r = lambda: random.randint(0,255)\n",
    "'#%02X%02X%02X' % (r(),r(),r())"
   ]
  },
  {
   "cell_type": "code",
   "execution_count": 1,
   "metadata": {},
   "outputs": [
    {
     "name": "stdout",
     "output_type": "stream",
     "text": [
      "[0, 0, 0, 0, 0, 0, 0, 0, 0, 0]\n",
      "[0, 0, 1, 0, 0, 0, 0, 0, 0, 0]\n",
      "[0, 0, 1, 0, 0, 1, 0, 0, 0, 0]\n",
      "[0, 0, 0, 0, 0, 1, 0, 0, 0, 0]\n"
     ]
    }
   ],
   "source": [
    "#КЛАССЫ\n",
    "class Hotel:\n",
    "    #используем класс\n",
    "    def __init__(self, num_of_rooms): \n",
    "        self.rooms = [0 for _ in range(num_of_rooms)]\n",
    "    \n",
    "    #используем подклассы\n",
    "    def occupy(self, room_id):\n",
    "        self.rooms[room_id] = 1\n",
    "        return self.rooms\n",
    "        \n",
    "    def free(self, room_id):\n",
    "        self.rooms[room_id] = 0\n",
    "        return self.rooms\n",
    "\n",
    "        \n",
    "#используем класс\n",
    "hot = Hotel(10)\n",
    "print(hot.rooms)\n",
    "\n",
    "#используем подклассы\n",
    "print(hot.occupy(2))\n",
    "print(hot.occupy(5))\n",
    "print(hot.free(2))\n"
   ]
  },
  {
   "cell_type": "code",
   "execution_count": 1,
   "metadata": {},
   "outputs": [
    {
     "name": "stdout",
     "output_type": "stream",
     "text": [
      "5\n",
      "4\n"
     ]
    }
   ],
   "source": [
    "import numpy as np\n",
    "\n",
    "n = int(input())\n",
    "m = int(input())\n",
    "lt = np.arange(n).reshape(n, 1)\n",
    "def f(lt):\n",
    "    lt = []\n",
    "    \n",
    "lt = np.apply_along_axis(f, 1, lt)\n"
   ]
  },
  {
   "cell_type": "code",
   "execution_count": 1,
   "metadata": {},
   "outputs": [
    {
     "name": "stdout",
     "output_type": "stream",
     "text": [
      "2\n",
      "3\n"
     ]
    }
   ],
   "source": [
    "import numpy as np\n",
    "\n",
    "\n",
    "n = int(input())\n",
    "m = int(input())"
   ]
  },
  {
   "cell_type": "code",
   "execution_count": 2,
   "metadata": {},
   "outputs": [
    {
     "data": {
      "text/plain": [
       "array([0, 1])"
      ]
     },
     "execution_count": 2,
     "metadata": {},
     "output_type": "execute_result"
    }
   ],
   "source": [
    "lt = np.arange(n)\n",
    "lt"
   ]
  },
  {
   "cell_type": "code",
   "execution_count": null,
   "metadata": {},
   "outputs": [
    {
     "name": "stdout",
     "output_type": "stream",
     "text": [
      "1, 1, 2\n"
     ]
    }
   ],
   "source": [
    "def f(x):\n",
    "    x =[]\n",
    "    a = input()\n",
    "    a.split(',')\n",
    "    x = np.array([a])\n",
    "    return x\n",
    "lt = np.arange(n).reshape(n, 1)\n",
    "lt = np.apply_along_axis(f, 1, lt)\n",
    "if n>m:\n",
    "    lt = lt[0:m][::]\n",
    "if n<m:\n",
    "    lt = lt[::][0:n]\n",
    "a = lt.diagonal()\n",
    "d = a[a != 0]\n",
    "if len(d) != 0:\n",
    "    print(d.prod())\n",
    "else:\n",
    "    print(-1)"
   ]
  },
  {
   "cell_type": "code",
   "execution_count": null,
   "metadata": {},
   "outputs": [],
   "source": []
  },
  {
   "cell_type": "code",
   "execution_count": null,
   "metadata": {},
   "outputs": [],
   "source": [
    "#NUMPY"
   ]
  },
  {
   "cell_type": "code",
   "execution_count": 8,
   "metadata": {},
   "outputs": [
    {
     "name": "stdout",
     "output_type": "stream",
     "text": [
      "[[1 2 3 7]\n",
      " [4 5 6 8]\n",
      " [8 7 9 8]]\n",
      "[4 5 6 8]\n",
      "[3 6 9]\n",
      "[[9 8]]\n"
     ]
    }
   ],
   "source": [
    "import numpy as np\n",
    "mat = np.array([[1,2,3,7], [4,5,6,8],[8,7,9,8]], int)\n",
    "print(mat)\n",
    "print(mat[1,:])\n",
    "print(mat[:,2])\n",
    "print(mat[-1:, -2:])"
   ]
  },
  {
   "cell_type": "code",
   "execution_count": 22,
   "metadata": {
    "collapsed": true
   },
   "outputs": [
    {
     "data": {
      "text/plain": [
       "(3, 4)"
      ]
     },
     "execution_count": 22,
     "metadata": {},
     "output_type": "execute_result"
    }
   ],
   "source": [
    "mat.shape #размер матрицы\n",
    "matrix.size #количесвто элементов матрицы"
   ]
  },
  {
   "cell_type": "code",
   "execution_count": 24,
   "metadata": {
    "collapsed": true
   },
   "outputs": [
    {
     "data": {
      "text/plain": [
       "3"
      ]
     },
     "execution_count": 24,
     "metadata": {},
     "output_type": "execute_result"
    }
   ],
   "source": [
    "len(mat) #длина по первой оси"
   ]
  },
  {
   "cell_type": "code",
   "execution_count": 26,
   "metadata": {
    "collapsed": true
   },
   "outputs": [
    {
     "data": {
      "text/plain": [
       "[array([1, 2, 3, 7]), array([4, 5, 6, 8]), array([8, 7, 9, 8])]"
      ]
     },
     "execution_count": 26,
     "metadata": {},
     "output_type": "execute_result"
    }
   ],
   "source": [
    "list(mat)"
   ]
  },
  {
   "cell_type": "code",
   "execution_count": 47,
   "metadata": {
    "collapsed": true
   },
   "outputs": [
    {
     "data": {
      "text/plain": [
       "array([[ 0,  2],\n",
       "       [ 4,  6],\n",
       "       [ 8, 10],\n",
       "       [12, 14],\n",
       "       [16, 18]])"
      ]
     },
     "execution_count": 47,
     "metadata": {},
     "output_type": "execute_result"
    }
   ],
   "source": [
    "a = np.arange(0, 20, 2)\n",
    "a = a.reshape((5, 2))\n",
    "a"
   ]
  },
  {
   "cell_type": "code",
   "execution_count": 3,
   "metadata": {},
   "outputs": [
    {
     "data": {
      "text/plain": [
       "array([[1., 1., 1.],\n",
       "       [1., 1., 1.]])"
      ]
     },
     "execution_count": 3,
     "metadata": {},
     "output_type": "execute_result"
    }
   ],
   "source": [
    "np.ones((2,3))"
   ]
  },
  {
   "cell_type": "code",
   "execution_count": 2,
   "metadata": {},
   "outputs": [
    {
     "data": {
      "text/plain": [
       "array([0., 0., 0., 0., 0., 0., 0.])"
      ]
     },
     "execution_count": 2,
     "metadata": {},
     "output_type": "execute_result"
    }
   ],
   "source": [
    "np.zeros(7)"
   ]
  },
  {
   "cell_type": "code",
   "execution_count": 4,
   "metadata": {},
   "outputs": [
    {
     "data": {
      "text/plain": [
       "array([[0., 1., 0., 0.],\n",
       "       [0., 0., 1., 0.],\n",
       "       [0., 0., 0., 1.],\n",
       "       [0., 0., 0., 0.]])"
      ]
     },
     "execution_count": 4,
     "metadata": {},
     "output_type": "execute_result"
    }
   ],
   "source": [
    "np.eye(4, k=1)"
   ]
  },
  {
   "cell_type": "code",
   "execution_count": 43,
   "metadata": {
    "collapsed": true
   },
   "outputs": [
    {
     "data": {
      "text/plain": [
       "array([[0., 2., 4., 6., 8.],\n",
       "       [1., 3., 5., 7., 9.]])"
      ]
     },
     "execution_count": 43,
     "metadata": {},
     "output_type": "execute_result"
    }
   ],
   "source": [
    "a.transpose()"
   ]
  },
  {
   "cell_type": "code",
   "execution_count": 58,
   "metadata": {
    "collapsed": true
   },
   "outputs": [
    {
     "data": {
      "text/plain": [
       "array([ 2, 10, 18, 26, 34])"
      ]
     },
     "execution_count": 58,
     "metadata": {},
     "output_type": "execute_result"
    }
   ],
   "source": [
    "np.sum(a, axis=1)"
   ]
  },
  {
   "cell_type": "code",
   "execution_count": 59,
   "metadata": {
    "collapsed": true
   },
   "outputs": [
    {
     "data": {
      "text/plain": [
       "array([  0,  24,  80, 168, 288])"
      ]
     },
     "execution_count": 59,
     "metadata": {},
     "output_type": "execute_result"
    }
   ],
   "source": [
    "np.prod(a, axis= 1)"
   ]
  },
  {
   "cell_type": "code",
   "execution_count": null,
   "metadata": {},
   "outputs": [],
   "source": [
    "a.mean(axis=0)  #среднее арифмитическое\n",
    "a.var()   #вариация\n",
    "a.std()   #девиация"
   ]
  },
  {
   "cell_type": "code",
   "execution_count": 63,
   "metadata": {
    "collapsed": true
   },
   "outputs": [
    {
     "data": {
      "text/plain": [
       "array([1, 1, 1, 1, 1], dtype=int64)"
      ]
     },
     "execution_count": 63,
     "metadata": {},
     "output_type": "execute_result"
    }
   ],
   "source": [
    "a.max(axis=1)\n",
    "a.argmax(axis=1)"
   ]
  },
  {
   "cell_type": "code",
   "execution_count": null,
   "metadata": {},
   "outputs": [],
   "source": [
    "np.cumsum(a, axis = 0)  #кумулятивная сумма"
   ]
  },
  {
   "cell_type": "code",
   "execution_count": null,
   "metadata": {},
   "outputs": [],
   "source": [
    "sorted(a)"
   ]
  },
  {
   "cell_type": "code",
   "execution_count": 4,
   "metadata": {},
   "outputs": [
    {
     "data": {
      "text/plain": [
       "array([1., 4., 5., 7.])"
      ]
     },
     "execution_count": 4,
     "metadata": {},
     "output_type": "execute_result"
    }
   ],
   "source": [
    "a = np.array([1, 1, 4, 5, 5, 5, 7], float)\n",
    "np.unique(a)"
   ]
  },
  {
   "cell_type": "code",
   "execution_count": 12,
   "metadata": {},
   "outputs": [
    {
     "data": {
      "text/plain": [
       "array([1., 4.])"
      ]
     },
     "execution_count": 12,
     "metadata": {},
     "output_type": "execute_result"
    }
   ],
   "source": [
    "a = np.array([[1, 2], [3, 4]], float)\n",
    "a.diagonal()"
   ]
  },
  {
   "cell_type": "code",
   "execution_count": 41,
   "metadata": {},
   "outputs": [
    {
     "name": "stdout",
     "output_type": "stream",
     "text": [
      "[[1.]\n",
      " [2.]\n",
      " [3.]]\n",
      "[[1. 2. 3.]]\n"
     ]
    }
   ],
   "source": [
    "a = np.array([1, 2, 3], float)\n",
    "print(a[:,np.newaxis])\n",
    "\n",
    "a = np.array([1, 2, 3], float)\n",
    "print(a[np.newaxis,:])"
   ]
  },
  {
   "cell_type": "code",
   "execution_count": 3,
   "metadata": {
    "collapsed": true
   },
   "outputs": [
    {
     "data": {
      "text/plain": [
       "2"
      ]
     },
     "execution_count": 3,
     "metadata": {},
     "output_type": "execute_result"
    }
   ],
   "source": [
    "mat.ndim  #число осей"
   ]
  },
  {
   "cell_type": "code",
   "execution_count": 9,
   "metadata": {},
   "outputs": [
    {
     "data": {
      "text/plain": [
       "array([[1, 2, 3, 7],\n",
       "       [4, 5, 6, 8],\n",
       "       [8, 7, 9, 8]])"
      ]
     },
     "execution_count": 9,
     "metadata": {},
     "output_type": "execute_result"
    }
   ],
   "source": [
    "mat2 = mat.copy()\n",
    "mat2"
   ]
  },
  {
   "cell_type": "code",
   "execution_count": 11,
   "metadata": {},
   "outputs": [
    {
     "data": {
      "text/plain": [
       "array([[1, 2, 3, 7, 1, 2, 3, 7],\n",
       "       [4, 5, 6, 8, 4, 5, 6, 8],\n",
       "       [8, 7, 9, 8, 8, 7, 9, 8]])"
      ]
     },
     "execution_count": 11,
     "metadata": {},
     "output_type": "execute_result"
    }
   ],
   "source": [
    "np.concatenate((mat, mat2), axis = 1)"
   ]
  },
  {
   "cell_type": "code",
   "execution_count": 27,
   "metadata": {
    "collapsed": true
   },
   "outputs": [
    {
     "data": {
      "text/plain": [
       "array([[5, 5, 5, 5],\n",
       "       [5, 5, 5, 5],\n",
       "       [5, 5, 5, 5]])"
      ]
     },
     "execution_count": 27,
     "metadata": {},
     "output_type": "execute_result"
    }
   ],
   "source": [
    "mat2.fill(5)\n",
    "mat2"
   ]
  },
  {
   "cell_type": "code",
   "execution_count": 17,
   "metadata": {
    "collapsed": true
   },
   "outputs": [
    {
     "data": {
      "text/plain": [
       "array([5, 5, 5, 5, 5, 5, 5, 5, 5, 5, 5, 5])"
      ]
     },
     "execution_count": 17,
     "metadata": {},
     "output_type": "execute_result"
    }
   ],
   "source": [
    "mat2.flatten()"
   ]
  },
  {
   "cell_type": "code",
   "execution_count": 7,
   "metadata": {},
   "outputs": [
    {
     "data": {
      "text/plain": [
       "array([3, 3, 2])"
      ]
     },
     "execution_count": 7,
     "metadata": {},
     "output_type": "execute_result"
    }
   ],
   "source": [
    "a = np.array([1, 3, 0], float)\n",
    "np.where(a > 0, 3, 2)"
   ]
  },
  {
   "cell_type": "code",
   "execution_count": null,
   "metadata": {},
   "outputs": [],
   "source": [
    "a = np.array([[6, 4], [5, 9]], float)\n",
    "a[a >= 6]"
   ]
  },
  {
   "cell_type": "code",
   "execution_count": null,
   "metadata": {},
   "outputs": [],
   "source": [
    "a = np.array([2, 4, 6, 8], float)\n",
    "b = np.array([0, 0, 1, 3, 2, 1], int)\n",
    "a[b]\n",
    "array([ 2.,  2.,  4.,  8.,  6.,  4.])"
   ]
  },
  {
   "cell_type": "code",
   "execution_count": null,
   "metadata": {},
   "outputs": [],
   "source": [
    "a = np.array([[0, 1], [2, 3]], float)\n",
    "b = np.array([0, 0, 1], int)\n",
    "a.take(b, axis=0)"
   ]
  },
  {
   "cell_type": "code",
   "execution_count": null,
   "metadata": {},
   "outputs": [],
   "source": [
    "np.vstack(Y, X) #объединяет массивы Х и У по первым осям\n",
    "np.hstack(Y, X) #по последним осям"
   ]
  },
  {
   "cell_type": "code",
   "execution_count": null,
   "metadata": {},
   "outputs": [],
   "source": [
    "a = np.array([[1, 2, 1, 3], [5, 3, 1, 8]], float)\n",
    "np.corrcoef(a) #коэффициент корреляции\n",
    "np.cov(a) #ковариационная матрица"
   ]
  },
  {
   "cell_type": "code",
   "execution_count": null,
   "metadata": {},
   "outputs": [],
   "source": [
    "np.random.rand(5, 2) #матрица 5*2 случайных чисел от 0 до 1"
   ]
  },
  {
   "cell_type": "code",
   "execution_count": 66,
   "metadata": {
    "collapsed": true
   },
   "outputs": [
    {
     "data": {
      "text/plain": [
       "7"
      ]
     },
     "execution_count": 66,
     "metadata": {},
     "output_type": "execute_result"
    }
   ],
   "source": [
    "np.random.randint(5, 10) #случайное число от 5 до 1-"
   ]
  },
  {
   "cell_type": "code",
   "execution_count": 69,
   "metadata": {
    "collapsed": true
   },
   "outputs": [
    {
     "data": {
      "text/plain": [
       "array([0.81835997])"
      ]
     },
     "execution_count": 69,
     "metadata": {},
     "output_type": "execute_result"
    }
   ],
   "source": [
    "np.random.normal(size = 1)"
   ]
  },
  {
   "cell_type": "code",
   "execution_count": null,
   "metadata": {},
   "outputs": [],
   "source": [
    "np.random.binomial(1, 0.5, size = 2)"
   ]
  },
  {
   "cell_type": "code",
   "execution_count": null,
   "metadata": {},
   "outputs": [],
   "source": [
    "np.random.poisson(1, size = 2)"
   ]
  },
  {
   "cell_type": "code",
   "execution_count": 70,
   "metadata": {
    "collapsed": true
   },
   "outputs": [
    {
     "data": {
      "text/plain": [
       "array([0.6938116 , 0.06584302])"
      ]
     },
     "execution_count": 70,
     "metadata": {},
     "output_type": "execute_result"
    }
   ],
   "source": [
    "np.random.exponential(1, size = 2)"
   ]
  },
  {
   "cell_type": "code",
   "execution_count": 68,
   "metadata": {
    "collapsed": true
   },
   "outputs": [
    {
     "data": {
      "text/plain": [
       "array([[11,  7],\n",
       "       [ 5,  5],\n",
       "       [ 7,  9],\n",
       "       [ 1,  7],\n",
       "       [10,  4]])"
      ]
     },
     "execution_count": 68,
     "metadata": {},
     "output_type": "execute_result"
    }
   ],
   "source": [
    "np.random.poisson(6.0, size = 5*2).reshape(5,2)"
   ]
  },
  {
   "cell_type": "code",
   "execution_count": null,
   "metadata": {},
   "outputs": [],
   "source": [
    "np.apply_along_axis(f, axis = 1, a)   #применить функцию f к массиву a"
   ]
  },
  {
   "cell_type": "code",
   "execution_count": 16,
   "metadata": {
    "collapsed": true
   },
   "outputs": [
    {
     "name": "stdout",
     "output_type": "stream",
     "text": [
      "(array([0, 0, 1, 1, 1, 2, 2, 2], dtype=int64), array([1, 2, 0, 1, 2, 0, 1, 2], dtype=int64))\n"
     ]
    }
   ],
   "source": [
    "nz = np.nonzero([1,2,0,0,4,0]) #индексы ненулевых элементов массива\n",
    "print(nz)"
   ]
  },
  {
   "cell_type": "code",
   "execution_count": 29,
   "metadata": {
    "collapsed": true
   },
   "outputs": [
    {
     "name": "stdout",
     "output_type": "stream",
     "text": [
      "[[5. 5. 5. 5. 5. 5. 5. 5. 5.]\n",
      " [5. 5. 5. 5. 5. 5. 5. 5. 5.]\n",
      " [5. 5. 1. 1. 1. 1. 1. 5. 5.]\n",
      " [5. 5. 1. 1. 1. 1. 1. 5. 5.]\n",
      " [5. 5. 1. 1. 1. 1. 1. 5. 5.]\n",
      " [5. 5. 1. 1. 1. 1. 1. 5. 5.]\n",
      " [5. 5. 1. 1. 1. 1. 1. 5. 5.]\n",
      " [5. 5. 5. 5. 5. 5. 5. 5. 5.]\n",
      " [5. 5. 5. 5. 5. 5. 5. 5. 5.]]\n"
     ]
    }
   ],
   "source": [
    "Z = np.ones((5,5))\n",
    "Z = np.pad(Z, pad_width=1, mode='constant', constant_values=0)  #оборачивает массив в рамку\n",
    "print(Z)"
   ]
  },
  {
   "cell_type": "code",
   "execution_count": 5,
   "metadata": {},
   "outputs": [
    {
     "data": {
      "text/plain": [
       "array([[0, 0, 0, 0, 0],\n",
       "       [1, 0, 0, 0, 0],\n",
       "       [0, 2, 0, 0, 0],\n",
       "       [0, 0, 3, 0, 0],\n",
       "       [0, 0, 0, 4, 0]])"
      ]
     },
     "execution_count": 5,
     "metadata": {},
     "output_type": "execute_result"
    }
   ],
   "source": [
    "Z = np.diag(1 + np.arange(4),k= -1) #строим матрицу, по k диагонали у которой массив 1+np.arange(4)\n",
    "Z"
   ]
  },
  {
   "cell_type": "code",
   "execution_count": null,
   "metadata": {},
   "outputs": [],
   "source": [
    "Z = np.zeros((8,8),dtype=int)\n",
    "Z[1::2,::2] = 1\n",
    "Z[::2,1::2] = 1 #создаем шахамтную матрицу из 1, 0\n",
    "Z"
   ]
  },
  {
   "cell_type": "code",
   "execution_count": null,
   "metadata": {},
   "outputs": [],
   "source": [
    "#функция tile повторяет массив\n",
    "Z = np.tile( np.array([[0,1],[1,0]]), (4,4)) #создаем шахамтную матрицу из 1, 0\n",
    "Z "
   ]
  },
  {
   "cell_type": "code",
   "execution_count": null,
   "metadata": {},
   "outputs": [],
   "source": [
    "z.cumsum()"
   ]
  },
  {
   "cell_type": "code",
   "execution_count": null,
   "metadata": {},
   "outputs": [],
   "source": []
  },
  {
   "cell_type": "code",
   "execution_count": null,
   "metadata": {},
   "outputs": [],
   "source": []
  },
  {
   "cell_type": "code",
   "execution_count": null,
   "metadata": {},
   "outputs": [],
   "source": [
    "#PANDAS"
   ]
  },
  {
   "cell_type": "code",
   "execution_count": 4,
   "metadata": {},
   "outputs": [],
   "source": [
    "import pandas as pd"
   ]
  },
  {
   "cell_type": "code",
   "execution_count": 6,
   "metadata": {},
   "outputs": [
    {
     "name": "stdout",
     "output_type": "stream",
     "text": [
      "2 1\n"
     ]
    }
   ],
   "source": [
    "a = 5//2\n",
    "b = 5%2\n",
    "print(a,b)"
   ]
  },
  {
   "cell_type": "code",
   "execution_count": null,
   "metadata": {},
   "outputs": [],
   "source": [
    "#SERIES\n",
    "\n",
    "import pandas as pd\n",
    "my_series = pd.Series([5, 6, 7, 8, 9, 10]) #по умолчанию индексы от 0 до n\n",
    "my_series2 = pd.Series([5, 6, 7, 8, 9, 10], index=['a', 'b', 'c', 'd', 'e', 'f'])\n",
    "my_series3 = pd.Series({'a': 5, 'b': 6, 'c': 7, 'd': 8})\n",
    "my_series3.index = ['A', 'B', 'C', 'D'] #в любой момент можно поменять индексы\n",
    "my_series.index #вытаскивает индекс(ключи)\n",
    "my_series.values #вытаскивает занчения\n",
    "my_series[4] #вытаскивает значение под индексом 4\n",
    "my_series2['f']  #вытаскивает значение под индексом f \n",
    "my_series2[my_series2 > 0] * 2 #вытаскивает удвоенные значения, которые больше 0\n",
    "my_series2[['a', 'b', 'f']] = 0  #присваивание к нулю значений под индексами  a, b, f\n"
   ]
  },
  {
   "cell_type": "code",
   "execution_count": 2,
   "metadata": {},
   "outputs": [
    {
     "data": {
      "text/plain": [
       "array([ 5,  6,  7,  8,  9, 10, 10], dtype=int64)"
      ]
     },
     "execution_count": 2,
     "metadata": {},
     "output_type": "execute_result"
    }
   ],
   "source": [
    "import pandas as pd\n",
    "\n",
    "my_series = pd.Series([5, 6, 7, 8, 9, 10, 10])\n",
    "my_series.values "
   ]
  },
  {
   "cell_type": "code",
   "execution_count": null,
   "metadata": {},
   "outputs": [],
   "source": [
    "#DataFrame\n",
    "df = pd.read_csv('filename.csv', sep=',')\n",
    "df = pd.DataFrame({\n",
    "     'country': ['Kazakhstan', 'Russia', 'Belarus', 'Ukraine'],\n",
    "     'population': [17.04, 143.5, 9.5, 45.5],\n",
    "     'square': [2724902, 17125191, 207600, 603628]}) #индексы по умолчаниб от 0 до n\n",
    "\n",
    "df.index = ['KZ', 'RU', 'BY', 'UA'] #в любой момент можно поменять индексы\n",
    "df.reset_index() #сброс индексов, по умолчанию от 0 до n\n",
    "df.info()\n",
    "df.shape  #размер таблицы\n",
    "df.head(n) #первые n строк таблицы\n",
    "df.tail(n)\n",
    "df.columns #назвния колонок списком\n",
    "df = df.rename(columns={'Country Code': 'country_code'}) #переименовать столбец\n",
    "\n",
    "\n",
    "df.sort_values(by='Total day charge', ascending=False) #сортировка по столбцу\n",
    "\n",
    "df.loc['KZ'] #данные из строки с индексом KZ\n",
    "df.iloc[0] #данные из строки с индексом 0\n",
    "df['country'] #данные по столбцу country\n",
    "df.loc[['KZ', 'RU'], 'population'] #данные их строк с индексом KZ, RU по столбцу population\n",
    "df.loc['KZ':'BY', :]\n",
    "df[df.population > 10][['country', 'square']] #берем только с population >10, выводим столбцы country, square\n",
    "\n",
    "\n",
    "df['Age'].value_counts()  #Выведем уникальные значения по возрасту и сколько раз каждое из них встречается\n",
    "df[\"Club\"].unique() #вывести уникальные значения в столбце \"Club\"\n",
    "df[\"Club\"].nunique() #посчитать колво уникальных значений в столбце \"Club\"\n",
    "\n",
    "\n",
    "df[\"Wage\"].mean() #среднее арифм значений столбца \"Wave\"\n",
    "df.isnull().sum() #количество пустот в каждом столбце (тип данных series)\n",
    "(df[\"Age\"] == 31).sum()\n",
    "df[df[\"Age\"] == 31][\"Wage\"].mean()\n",
    ".count()  #выводит количество\n",
    "\n",
    "df['density'] = df['population'] / df['square'] * 1000000   #добавим новый столбец density\n",
    "df.drop(['density'], axis='columns')  #удалим столбец density\n",
    "\n",
    "\n",
    "#Добавляет колонку Total calls в столбец номер loc таблицы\n",
    "total_calls = df['Total day calls'] + df['Total eve calls'] + df['Total night calls'] + df['Total intl calls']\n",
    "df.insert(loc=len(df.columns), column='Total calls', value=total_calls)\n",
    "\n",
    "#GroupBy\n",
    "titanic_df.groupby(['Sex', 'Survived'])['PassengerID'].count()  #выводит количество участников из группы в зависмости от sex и survived\n",
    "\n",
    "\n",
    "#СВОДНЫЕ ТАБЛИЦЫ\n",
    "titanic_df = pd.read_csv('titanic.csv')  #базовая таблица\n",
    "# создает сводную, индексами будет пол, столбцами PClass, занчениями внутри таблицы количество \n",
    "pvt = titanic_df.pivot_table(index=['Sex'], columns=['PClass'], values='Name', aggfunc='count')\n",
    "pvt.loc['female', ['1st', '2nd', '3rd']] #берет по строке female значения из всех классов\n",
    "\n",
    "#АНАЛИЗ ВРЕМЕННЫХ РЯДОВ\n",
    "df['Date'] = pd.to_datetime(df[\"Date\"]) #преобразовываем массив даты в тип 2020-05-15\n",
    "df.loc['2012-Feb':'2015-Feb', 'Close'].mean() #среднее по строкам даты и столбцу Close\n",
    "df.resample('W')['Close'].mean()  #среднее значение из столбца Close по каждой Week (H- hour, D - Day)\n",
    "\n",
    "\n"
   ]
  },
  {
   "cell_type": "code",
   "execution_count": null,
   "metadata": {},
   "outputs": [],
   "source": [
    "#ВИЗУАЛИЗАЦИЯ"
   ]
  },
  {
   "cell_type": "code",
   "execution_count": 2,
   "metadata": {},
   "outputs": [
    {
     "data": {
      "image/png": "[encoded data removed]",
      "text/plain": [
       "<Figure size 432x288 with 1 Axes>"
      ]
     },
     "metadata": {
      "needs_background": "light"
     },
     "output_type": "display_data"
    }
   ],
   "source": [
    "import matplotlib.pyplot as plt\n",
    "fig, ax = plt.subplots()\n",
    "\n",
    "ax.plot(['Sep', 'Oct', 'Nov'], [1, 8, 10], color = 'b', marker = 'o', linestyle = '--')\n",
    "ax.plot(['Sep', 'Oct', 'Nov'], [3, 5, 0], color = 'r', marker = 'v', linestyle = '--')\n",
    "\n",
    "# Customize the x-axis label\n",
    "ax.set_xlabel(\"Time (months)\")\n",
    "# Customize the y-axis label\n",
    "ax.set_ylabel(\"Precipitation (inches)\")\n",
    "# Add the title\n",
    "ax.set_title(\"Weather patterns in Austin and Seattle\")\n",
    "\n",
    "plt.show()"
   ]
  },
  {
   "cell_type": "code",
   "execution_count": null,
   "metadata": {},
   "outputs": [],
   "source": [
    "import matplotlib.pyplot as plt\n",
    "listik.plot()  #строит линейный график таблицы с 1 столбцом listik"
   ]
  },
  {
   "cell_type": "code",
   "execution_count": null,
   "metadata": {},
   "outputs": [],
   "source": [
    "fig, ax = plt.subplots()\n",
    "ax.bar(['Винни-Пух', 'Пятачок', 'Кролик', 'Иа-Иа'], win_num, color = 'g')\n",
    "ax.set_xticklabels(['Винни-Пух', 'Пятачок', 'Кролик', 'Иа-Иа'], rotation = 90)\n",
    "ax.set_ylabel(\"Количество побед\")\n",
    "ax.set_title(\"Количество побед в марафонах\", color = 'g')\n",
    "\n",
    "plt.show()"
   ]
  },
  {
   "cell_type": "code",
   "execution_count": null,
   "metadata": {},
   "outputs": [],
   "source": [
    "# Create a Figure and an array of subplots with 2 rows and 2 columns\n",
    "fig, ax = plt.subplots(2, 2)\n",
    "\n",
    "# Addressing the top left Axes as index 0, 0, plot month and Seattle precipitation\n",
    "ax[0, 0].plot(seattle_weather[\"MONTH\"], seattle_weather['MLY-PRCP-NORMAL'])\n",
    "\n",
    "# In the top right (index 0,1), plot month and Seattle temperatures\n",
    "ax[0, 1].plot(seattle_weather[\"MONTH\"], seattle_weather['MLY-TAVG-NORMAL'])\n",
    "\n",
    "# In the bottom left (1, 0) plot month and Austin precipitations\n",
    "ax[1,0].plot(austin_weather[\"MONTH\"], austin_weather['MLY-PRCP-NORMAL'])\n",
    "\n",
    "# In the bottom right (1, 1) plot month and Austin temperatures\n",
    "ax[1, 1].plot(austin_weather[\"MONTH\"], austin_weather['MLY-TAVG-NORMAL'])\n",
    "plt.show()"
   ]
  },
  {
   "cell_type": "code",
   "execution_count": null,
   "metadata": {},
   "outputs": [],
   "source": [
    "#Линейная\n",
    "fig, ax = plt.subplots(figsize = (15, 5))\n",
    "ax.plot(np.arange(1, 1001), atos_vis[-1], color = '#CE1E83', label = \"Эсперименты\")\n",
    "plt.axhline(3.5, color='b', linestyle='dashed', linewidth=2)\n",
    "ax.set_xlabel(\"Номер посещения казино\")\n",
    "ax.set_ylabel(\"Богатство Атоса\")\n",
    "ax.set_title(\"Изменение бюджета Атоса после посещения казино\", color = '#1B52C1', fontsize = 16)\n",
    "plt.gca().set(xlim = (1, 1000))\n",
    "plt.legend(fontsize = 12)\n",
    "plt.show()"
   ]
  },
  {
   "cell_type": "code",
   "execution_count": null,
   "metadata": {},
   "outputs": [],
   "source": [
    "# Столбчатая\n",
    "plt.hist(numbers, color = 'g')\n",
    "plt.title(\"Результаты экспериментов\", color = 'g')\n",
    "plt.xlabel(\"Количество автобусов за сутки\")\n",
    "plt.ylabel(\"Кол-во одинаковых результатов экспериментов\")\n",
    "plt.style.use('bmh');\n",
    "plt.show()"
   ]
  },
  {
   "cell_type": "code",
   "execution_count": null,
   "metadata": {},
   "outputs": [],
   "source": [
    "#Усатые Ящики\n",
    "\n",
    "plt.figure(figsize=(12,6))\n",
    "df = pd.DataFrame(zip(th_od, th_pe, th_ap), columns = ['Одэхингум', 'Пэпина', 'Апониви'])\n",
    "sns.boxplot(data = df,)"
   ]
  },
  {
   "cell_type": "code",
   "execution_count": null,
   "metadata": {},
   "outputs": [],
   "source": []
  },
  {
   "cell_type": "code",
   "execution_count": null,
   "metadata": {},
   "outputs": [],
   "source": []
  },
  {
   "cell_type": "code",
   "execution_count": null,
   "metadata": {},
   "outputs": [],
   "source": [
    "#СТАТИСТИКА"
   ]
  },
  {
   "cell_type": "code",
   "execution_count": 2,
   "metadata": {},
   "outputs": [],
   "source": [
    "import scipy.stats as sts\n",
    "import numpy as np\n",
    "import matplotlib.pyplot as plt"
   ]
  },
  {
   "cell_type": "code",
   "execution_count": null,
   "metadata": {},
   "outputs": [],
   "source": [
    "np.mean(a)\n",
    "np.var(a)"
   ]
  },
  {
   "cell_type": "code",
   "execution_count": null,
   "metadata": {},
   "outputs": [],
   "source": [
    "import numpy as np\n",
    "import matplotlib.pyplot as plt\n",
    "\n",
    "\n",
    "N = 500\n",
    "cub = np.arange(1, 7)\n",
    "x = np.random.choice(cub, size = N)\n",
    "x = np.cumsum(x)\n",
    "y = x / np.arange(1, N + 1)\n",
    "fig, ax = plt.subplots(figsize = (15, 5))\n",
    "ax.plot(np.arange(1, N + 1), y, color = '#CE1E83')\n",
    "plt.axhline(3.5, color='b', linestyle='dashed', linewidth=2)\n",
    "plt.xlabel(\"Число подбрасываний\")\n",
    "plt.ylabel(\"Среднее число\")\n",
    "plt.show()"
   ]
  },
  {
   "cell_type": "code",
   "execution_count": null,
   "metadata": {},
   "outputs": [],
   "source": [
    "import numpy as np\n",
    "import matplotlib.pyplot as plt\n",
    "\n",
    "\n",
    "N = 100000\n",
    "cub = np.arange(1, 7)\n",
    "x = np.random.choice(cub, size = N)\n",
    "x = np.cumsum(x)\n",
    "y = x / np.arange(1, N + 1)\n",
    "fig, ax = plt.subplots(figsize = (15, 5))\n",
    "ax.plot(np.arange(1, N + 1), y, color = '#CE1E83')\n",
    "plt.axhline(3.5 + 0.01, color='b', linestyle='dashed', linewidth=2)\n",
    "plt.axhline(3.5 - 0.01, color='b', linestyle='dashed', linewidth=2)\n",
    "plt.xlabel('Число подбрасываний игральной кости')\n",
    "plt.ylabel('Среднее значение')\n",
    "plt.show()"
   ]
  },
  {
   "cell_type": "code",
   "execution_count": null,
   "metadata": {},
   "outputs": [],
   "source": [
    "import numpy as np\n",
    "import matplotlib.pyplot as plt\n",
    "import scipy.stats as sts\n",
    "\n",
    "\n",
    "cauchy_rv = sts.cauchy()  # генератор \n",
    "\n",
    "\n",
    "# 1000 траекторий по n_obs шагов\n",
    "N = 10000\n",
    "x = cauchy_rv.rvs(size = (N,1000))\n",
    "x_cumsum = np.cumsum(x, axis = 0)\n",
    "y = x_cumsum/np.arange(1, N + 1)[:,None]\n",
    "fig, ax = plt.subplots(figsize = (15, 5))\n",
    "plt.plot(y[:,442])\n",
    "plt.axhline(0, color='b', linestyle='dashed', linewidth=2)\n",
    "plt.xlabel('Число подбрасываний игральной кости')\n",
    "plt.ylabel('Вероятность пробить коридор')\n",
    "plt.show()"
   ]
  },
  {
   "cell_type": "code",
   "execution_count": 3,
   "metadata": {},
   "outputs": [
    {
     "data": {
      "image/png": "[encoded data removed]",
      "text/plain": [
       "<Figure size 1152x288 with 2 Axes>"
      ]
     },
     "metadata": {
      "needs_background": "light"
     },
     "output_type": "display_data"
    }
   ],
   "source": [
    "x = np.linspace(-5,5,100)\n",
    "\n",
    "fig, ax = plt.subplots(1,2,figsize=(16, 4))\n",
    "\n",
    "for k in [1, 2, 5, 10, 50]:    \n",
    "    rv = sts.t(df=k)\n",
    "    pdf = rv.pdf(x)\n",
    "    cdf = rv.cdf(x) \n",
    "    ax[0].plot(x, pdf, label=\"$t(%s)$\" % k, lw=1.2)\n",
    "    ax[1].plot(x, cdf, label=\"$t(%s)$\" % k, lw=1.2)\n",
    "\n",
    "\n",
    "rv_limit = sts.norm( )\n",
    "pdf_limit = rv_limit.pdf(x)\n",
    "cdf_limit = rv_limit.cdf(x)\n",
    "\n",
    "ax[0].plot(x, pdf_limit, label='N(0,1)', linestyle='dashed', lw=2)\n",
    "ax[0].set_ylim(-0.03,0.45)\n",
    "ax[0].set_title(\"Плотность распределения (PDF)\")\n",
    "ax[0].legend() \n",
    "\n",
    "ax[1].set_ylim(-0.1,1.1)\n",
    "ax[1].plot(x, cdf_limit, label='N(0,1)', linestyle='dashed', lw=2)\n",
    "ax[1].set_title(\"Функция распределения (CDF)\")\n",
    "ax[1].legend();"
   ]
  },
  {
   "cell_type": "code",
   "execution_count": null,
   "metadata": {},
   "outputs": [],
   "source": [
    "norm_rv = sts.norm(loc=300, scale=100)\n",
    "\n",
    "# вся генеральная совокупность \n",
    "x_mamont = norm_rv.rvs(size = 10**4)"
   ]
  },
  {
   "cell_type": "code",
   "execution_count": null,
   "metadata": {},
   "outputs": [],
   "source": [
    "cauchy_rv = sts.cauchy()  # генератор \n",
    "# 1000 траекторий по n_obs шагов\n",
    "x = cauchy_rv.rvs(size = (5,1000))"
   ]
  },
  {
   "cell_type": "code",
   "execution_count": null,
   "metadata": {},
   "outputs": [],
   "source": [
    "a = np.random(lam, size)\n",
    "np.mean(a)\n",
    "np.random.shuffle([a]) #перемешивает элементы в массиве"
   ]
  },
  {
   "cell_type": "code",
   "execution_count": null,
   "metadata": {},
   "outputs": [],
   "source": [
    "die, probabilities, num_dice = [1,2,3,4,5,6], [1/6, 1/6, 1/6, 1/6, 1/6, 1/6], 2\n",
    "outcomes = np.random.choice(die, size=2*6, p= probabilities) \n",
    "\n",
    "# Win if the two dice show the same number\n",
    "if outcomes[0] == outcomes[1]: \n",
    "    answer = 'win' \n",
    "else:\n",
    "    answer = 'lose'\n",
    "\n",
    "print(\"The dice show {} and {}. You {}!\".format(outcomes[0], outcomes[1], answer))"
   ]
  },
  {
   "cell_type": "code",
   "execution_count": null,
   "metadata": {},
   "outputs": [],
   "source": [
    "# Initialize size and simulate outcome\n",
    "lottery_ticket_cost, num_tickets, grand_prize = 10, 1000, 1000000\n",
    "chance_of_winning = 1/num_tickets\n",
    "size = 2000\n",
    "payoffs = [- lottery_ticket_cost, grand_prize - lottery_ticket_cost]\n",
    "probs = [1-chance_of_winning, chance_of_winning]\n",
    "\n",
    "outcomes = np.random.choice(a=payoffs, size=size, p=probs, replace=True)\n",
    "\n",
    "# Mean of outcomes.\n",
    "answer = np.mean(outcomes)\n",
    "print(\"Average payoff from {} simulations = {}\".format(size, answer))"
   ]
  },
  {
   "cell_type": "code",
   "execution_count": null,
   "metadata": {},
   "outputs": [],
   "source": []
  },
  {
   "cell_type": "code",
   "execution_count": null,
   "metadata": {},
   "outputs": [],
   "source": []
  },
  {
   "cell_type": "code",
   "execution_count": null,
   "metadata": {},
   "outputs": [],
   "source": [
    "import math\n",
    "from math import factorial\n",
    "factorial(5)\n",
    "\n",
    "import random\n",
    "import pandas as pd  # работа с табличками\n",
    "\n",
    "import numpy as np  # математика с массивами\n",
    "from numpy import mean, var\n",
    "\"создает именно матрицу, а не массив массиовов\"\n",
    "matrix = [[1,2,3], [4,5,6],[8,7,9]]\n",
    "matrix = np.array(matrix)\n",
    "\"количество уровней списков (список списка)\"\n",
    "matrix.ndim\n",
    "\"создает нулевую матрицу 4*4 с единичками в диагонали k\"\n",
    "np.eye(4, k = 0)\n",
    "\"создает нулевую матрицу 3*3*3\"\n",
    "np.zeros((3,3,3))\n",
    "\"создает массив от start включительно до end НЕ включительно с шагом step (может принимать дробные значения)\"\n",
    "np.arange(start, end, step)\n",
    "\"создает массив от start включительно до end включительно из N чисел (может принимать дробные значения)\"\n",
    "np.linspace(start, end, N)\n",
    "\"взятие всех элементов матрицы Х по модулю\"\n",
    "np.abs(X)\n",
    "\"создание списка их элементов матрицы Х по диагонали\"\n",
    "np.diag(X)\n",
    "\"сумма элементов массива\"\n",
    "np.sum(X)\n",
    "\"произведение всех элементов матрицы/списка Х\"\n",
    "np.prod(X)\n",
    "\"поменять форму матрицы Х, сделать (n, m) - количество строк и столбцов\"\n",
    "np.reshape(X, (n, m))\n",
    "X = X[np.newaxis, :]\n",
    "X = X[:, np.newaxis]\n",
    "\" выдает (n, m, ...) - количество строк и столбцов, количество элементов в элеменет матрицы и тд, матрицы X\"\n",
    "X.shape\n",
    "\"транспонировать массив\"\n",
    "X.transpose()\n",
    "\"склеивает массивы a, b, c по оси k (по умолчанию k = 0)\"\n",
    "np.concatenate((a, b, c), axis = k)\n",
    "\"наодит среднее значение в массиве а по оси k\"\n",
    "a.mean(axis=k)\n",
    "\"находит вариацию в массиве а по оси k\"\n",
    "a.var(axis=k)\n",
    "\"находит минимальные и максимальные значения в массиве по оси k\"\n",
    "a.min(axis=k)\n",
    "a.max(axis=k)\n",
    "\"находит индекс минимального и максимального значения(если значение макс или мин несколько, то выдает 0) в массиве по оси k\"\n",
    "a.argmin(axis=k)\n",
    "a.argmax(axis=k)\n",
    "import seaborn as sns  # графики\n",
    "from scipy import special  # спец функции\n",
    "from scipy.stats import norm, expon, poisson, uniform\n",
    "\n",
    "a = int(input())\n",
    "\"ввод элементов в список\"\n",
    "a = list(map(int, input().split()))\n",
    "\"ввод из файла\"\n",
    "Fin = open ( \"input.txt\", \"r\" )\n",
    "lst=[int(i) for i in fin.read().split()]\n",
    "Fout = open ( \"output.txt\", \"w\" )\n",
    "  # работа с файлами\n",
    "Fout.close()\n",
    "Fin.close()\n",
    "\"функция ввода до нуля\"\n",
    "def input_(v_list):\n",
    "    ver = int(input())\n",
    "    if ver != 0:\n",
    "        v_list.append(ver)\n",
    "        input_(v_list)\n",
    "    return v_list\n",
    "\n",
    "\n",
    "\"строки\"\n",
    "n = str(n) \"преобразование в строку\"\n",
    "S1 + S2\n",
    "S1 * 3\n",
    "S[i]\n",
    "S[i:j:step]\n",
    "len(S)\n",
    "S.find(str, [start],[end])\n",
    "S.rfind(str, [start],[end])\n",
    "S.index(str, [start],[end])\n",
    "S.replace(шаблон, замена)\n",
    "S.split(символ)\n",
    "S.count(str, [start],[end])\n",
    "\n",
    "\"списки\"\n",
    "list.append(x)\n",
    "list.remove(x) \"удаляет первый наденный икс\"\n",
    "list.pop([i]) \"удаляет итый элемент\"\n",
    "list.index(x, [start [, end]]) \"положение первого элемента икс\"\n",
    "list.count(x)\n",
    "\"сортировка по номеру элемента списка, по возрастанию\"\n",
    "b.sort(key=lambda x: x[0])\n",
    "list.reverse() \"разворачивает\"\n",
    "list[START:STOP:STEP] \"START включительно, а STOP не включительно\"\n",
    "list[::-1] \"развернет список\"\n",
    "answer = max(list)\n",
    "sum(list) \"сумма элементов списка\"\n",
    "\n",
    "\"множества\"\n",
    "s = set()\n",
    "s = set('hello')\n",
    "s = {i ** 2 for i in range(10)} # генератор множеств\n",
    "set(lst) \"преобразование списка во множество\"\n",
    "len(s)\n",
    "x in s\n",
    "set == other \" все элементы set принадлежат other, все элементы other принадлежат set\n",
    "set <= other \" все элементы set принадлежат other\n",
    "set | other   \" объединение нескольких множеств\n",
    "set & other   \"  пересечение\n",
    "set - other   \" множество из всех элементов set, не принадлежащие ни одному из other\n",
    "set ^ other   \" множество из элементов, встречающихся в одном множестве, но не встречающиеся в обоих\n",
    "set.add(elem)\n",
    "set.remove(elem)\n",
    "\n",
    "x // y \"целая часть от деления\"\n",
    "x % y \"остаок от деления\"\n",
    "abs(a - b) \"модуль\"\n",
    "\n",
    "\"округление float (6 занков после запятой)\"\n",
    "round(x, 6)\n",
    "\n",
    "\"значения списка поэлементно\"\n",
    "print(*list)\n",
    "\"узнать тип данных\"\n",
    "print(type())\n",
    "\"следующий принт будет на этой строчке через пробел\"\n",
    "print(i, end=' ')\n",
    "\"элементы будут печататься с пробелом\"\n",
    "print(\"hello,\", \"world!\", sep=' ')\n",
    "\"писать строчку 100 раз\"\n",
    "print('A'*100)\n",
    "\n",
    "\"забываю\"\n",
    "quit()\n",
    "break\n",
    "\n"
   ]
  },
  {
   "cell_type": "code",
   "execution_count": 7,
   "metadata": {},
   "outputs": [
    {
     "name": "stdout",
     "output_type": "stream",
     "text": [
      "Statistics -13.345077725298946\n",
      "Quantails -1.8331129326536337 1.8331129326536335\n",
      "p-value 3.0999906353024187e-07\n",
      "6.525222222222221\n"
     ]
    },
    {
     "data": {
      "text/plain": [
       "0.01700302264763276"
      ]
     },
     "execution_count": 7,
     "metadata": {},
     "output_type": "execute_result"
    }
   ],
   "source": [
    "import pandas as pd\n",
    "import numpy as np\n",
    "from scipy import stats\n",
    "\n",
    "Y = pd.Series([-1.11, -6.10, 2.42, -0.09, -0.17, -2.29, -2.91, 0.93, -0.78, 2.3])\n",
    "\n",
    "def mean_test_1(data, alpha, hyp, type):\n",
    "    m = len(data)\n",
    "    data_mean = data.mean()\n",
    "    s_sq = np.sum((data - data_mean)**2)/(m-1)\n",
    "    se = (np.sqrt(s_sq)/np.sqrt(m))\n",
    "    t_stat = (data_mean - hyp)/se\n",
    "    if type == 1: # h_1 mu not = hyp\n",
    "        t_cr_1 = stats.t.ppf(alpha / 2, m - 1)\n",
    "        t_cr_2 = stats.t.ppf(1 - alpha / 2, m - 1)\n",
    "        p_val = 2*(1 - stats.t.cdf(abs(t_stat), m - 1))\n",
    "        print(\"Statistics\", t_stat)\n",
    "        print(\"Quantails\", t_cr_1, t_cr_2)\n",
    "        print(\"p-value\", p_val)\n",
    "        print(s_sq)\n",
    "    elif type == 2: \n",
    "            # H_1: mu > hyp\n",
    "            t_cr_1 = '-inf'\n",
    "            t_cr_2 = stats.t.ppf(1 - alpha, m - 1)\n",
    "            p_val = 1 - stats.t.cdf(t_stat, m - 1)\n",
    "            print(\"Statistics\", t_stat)\n",
    "            print(\"Quantails\", t_cr_1, t_cr_2)\n",
    "            print(\"p-value\", p_val)\n",
    "    else: # H_3: mu < hyp\n",
    "                t_cr_1 = stats.t.ppf(alpha, m - 1)\n",
    "                t_cr_2 = 'inf'\n",
    "                p_val = stats.t.cdf(t_stat, m-1)\n",
    "                print(\"Statistics\", t_stat)\n",
    "                print(\"Quantails\", t_cr_1, t_cr_2)\n",
    "                print(\"p-value\", p_val)\n",
    "\n",
    "\n",
    "mean_test_1(Y,0.1,10,1)\n",
    "\n",
    "\n",
    "1 - stats.norm.cdf(2.12)"
   ]
  },
  {
   "cell_type": "code",
   "execution_count": 3,
   "metadata": {},
   "outputs": [
    {
     "name": "stdout",
     "output_type": "stream",
     "text": [
      "5.6\n"
     ]
    }
   ],
   "source": [
    "float = 5.6\n",
    "print(float)"
   ]
  },
  {
   "cell_type": "code",
   "execution_count": null,
   "metadata": {},
   "outputs": [],
   "source": []
  }
 ],
 "metadata": {
  "kernelspec": {
   "display_name": "Python 3",
   "language": "python",
   "name": "python3"
  },
  "language_info": {
   "codemirror_mode": {
    "name": "ipython",
    "version": 3
   },
   "file_extension": ".py",
   "mimetype": "text/x-python",
   "name": "python",
   "nbconvert_exporter": "python",
   "pygments_lexer": "ipython3",
   "version": "3.7.4"
  }
 },
 "nbformat": 4,
 "nbformat_minor": 2
}
