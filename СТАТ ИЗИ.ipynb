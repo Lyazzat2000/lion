{
 "cells": [
  {
   "cell_type": "code",
   "execution_count": null,
   "metadata": {},
   "outputs": [],
   "source": [
    "import pandas as pd\n",
    "import numpy as np\n",
    "from scipy import stats"
   ]
  },
  {
   "cell_type": "code",
   "execution_count": 7,
   "metadata": {},
   "outputs": [
    {
     "data": {
      "text/plain": [
       "0.002699796063260207"
      ]
     },
     "execution_count": 7,
     "metadata": {},
     "output_type": "execute_result"
    }
   ],
   "source": [
    "p_val = 2*(1 - stats.norm.cdf(abs(3)))\n",
    "p_val"
   ]
  },
  {
   "cell_type": "code",
   "execution_count": null,
   "metadata": {},
   "outputs": [],
   "source": [
    "#НОРМАЛЬНОЕ"
   ]
  },
  {
   "cell_type": "code",
   "execution_count": 9,
   "metadata": {},
   "outputs": [
    {
     "name": "stdout",
     "output_type": "stream",
     "text": [
      "-1.9599639845400545\n",
      "1.959963984540054\n"
     ]
    }
   ],
   "source": [
    "alpha = 0.05\n",
    "print(stats.norm.ppf(alpha / 2))\n",
    "print(stats.norm.ppf(1 - alpha / 2))"
   ]
  },
  {
   "cell_type": "code",
   "execution_count": 33,
   "metadata": {
    "collapsed": true
   },
   "outputs": [
    {
     "name": "stdout",
     "output_type": "stream",
     "text": [
      "-inf\n",
      "1.6448536269514722\n"
     ]
    }
   ],
   "source": [
    "alpha =0.05\n",
    "print('-inf')\n",
    "print(stats.norm.ppf(1 - alpha))"
   ]
  },
  {
   "cell_type": "code",
   "execution_count": 6,
   "metadata": {
    "collapsed": true
   },
   "outputs": [
    {
     "name": "stdout",
     "output_type": "stream",
     "text": [
      "-2.3263478740408408\n",
      "+inf\n"
     ]
    }
   ],
   "source": [
    "alpha= 0.01\n",
    "print(stats.norm.ppf(alpha))\n",
    "print('+inf')"
   ]
  },
  {
   "cell_type": "code",
   "execution_count": null,
   "metadata": {},
   "outputs": [],
   "source": [
    "#СТЬЮДЕНТА"
   ]
  },
  {
   "cell_type": "code",
   "execution_count": 11,
   "metadata": {},
   "outputs": [
    {
     "name": "stdout",
     "output_type": "stream",
     "text": [
      "-2.262157162740992\n",
      "2.2621571627409915\n"
     ]
    }
   ],
   "source": [
    "alpha = 0.05\n",
    "m = 10\n",
    "print(stats.t.ppf(alpha / 2, m - 1))\n",
    "print(stats.t.ppf(1 - alpha / 2, m - 1))"
   ]
  },
  {
   "cell_type": "code",
   "execution_count": null,
   "metadata": {},
   "outputs": [],
   "source": [
    "alpha = \n",
    "m =\n",
    "print('-inf')\n",
    "print(stats.t.ppf(1 - alpha, m - 1))"
   ]
  },
  {
   "cell_type": "code",
   "execution_count": null,
   "metadata": {},
   "outputs": [],
   "source": [
    "alpha = \n",
    "m =\n",
    "print(stats.t.ppf(alpha, m - 1))\n",
    "print('+inf')"
   ]
  },
  {
   "cell_type": "code",
   "execution_count": null,
   "metadata": {},
   "outputs": [],
   "source": [
    "#ХИ"
   ]
  },
  {
   "cell_type": "code",
   "execution_count": 13,
   "metadata": {},
   "outputs": [
    {
     "name": "stdout",
     "output_type": "stream",
     "text": [
      "10.85081139418259\n",
      "31.410432844230918\n"
     ]
    }
   ],
   "source": [
    "import pandas as pd\n",
    "import numpy as np\n",
    "from scipy import stats\n",
    "alpha = 0.1\n",
    "m = 20\n",
    "print(stats.chi2.ppf(alpha / 2, m ))\n",
    "print(stats.chi2.ppf(1 - alpha / 2, m ))"
   ]
  },
  {
   "cell_type": "code",
   "execution_count": 4,
   "metadata": {},
   "outputs": [
    {
     "name": "stdout",
     "output_type": "stream",
     "text": [
      "-inf\n",
      "7.779440339734858\n"
     ]
    }
   ],
   "source": [
    "alpha = 0.1\n",
    "m = 5\n",
    "print('-inf')\n",
    "print(stats.chi2.ppf(1 - alpha, m - 1))"
   ]
  },
  {
   "cell_type": "code",
   "execution_count": 5,
   "metadata": {},
   "outputs": [
    {
     "name": "stdout",
     "output_type": "stream",
     "text": [
      "1.063623216779224\n",
      "+inf\n"
     ]
    }
   ],
   "source": [
    "alpha = 0.1\n",
    "m = 5\n",
    "print(stats.chi2.ppf(alpha, m - 1))\n",
    "print('+inf')"
   ]
  },
  {
   "cell_type": "code",
   "execution_count": null,
   "metadata": {},
   "outputs": [],
   "source": [
    "#ФИШЕР"
   ]
  },
  {
   "cell_type": "code",
   "execution_count": 3,
   "metadata": {},
   "outputs": [
    {
     "name": "stdout",
     "output_type": "stream",
     "text": [
      "0.1440035777631469\n",
      "19.246794344808947\n"
     ]
    }
   ],
   "source": [
    "alpha = 0.1\n",
    "m = 5\n",
    "n = 3\n",
    "print(stats.f.ppf(alpha / 2, m - 1, n-1))\n",
    "print(stats.f.ppf(1 - alpha / 2, m - 1, n-1))"
   ]
  },
  {
   "cell_type": "code",
   "execution_count": null,
   "metadata": {},
   "outputs": [],
   "source": [
    "alpha = \n",
    "m = \n",
    "n = \n",
    "print('-inf')\n",
    "print(stats.f.ppf(1 - alpha, m - 1, n-1))"
   ]
  },
  {
   "cell_type": "code",
   "execution_count": null,
   "metadata": {},
   "outputs": [],
   "source": [
    "alpha = \n",
    "m = \n",
    "n = \n",
    "print(stats.f.ppf(alpha, m - 1, n-1))\n",
    "print('+inf')"
   ]
  },
  {
   "cell_type": "code",
   "execution_count": 2,
   "metadata": {},
   "outputs": [
    {
     "name": "stdout",
     "output_type": "stream",
     "text": [
      "-2 2\n",
      "0.0\n",
      "8.0\n"
     ]
    }
   ],
   "source": [
    "import numpy as np\n",
    "\n",
    "x = list(map(float, input().split(' ')))\n",
    "x = np.array(x)\n",
    "mean = x.mean()\n",
    "print(mean)\n",
    "b = (x - mean)**2 / (len(x)-1)\n",
    "print(sum(b))"
   ]
  },
  {
   "cell_type": "code",
   "execution_count": null,
   "metadata": {},
   "outputs": [],
   "source": [
    "print(0.5*0.5*99/0.3)"
   ]
  },
  {
   "cell_type": "code",
   "execution_count": 17,
   "metadata": {},
   "outputs": [
    {
     "name": "stdout",
     "output_type": "stream",
     "text": [
      "40 10 20 30\n",
      "0.3 0.2 0.3 0.2\n",
      "16.666666666666668\n"
     ]
    }
   ],
   "source": [
    "import numpy as np\n",
    "\n",
    "chas = list(map(float, input().split(' ')))\n",
    "p = list(map(float, input().split(' ')))\n",
    "chas = np.array(chas)\n",
    "p = np.array(p)\n",
    "n = sum(chas)\n",
    "stat= ((chas - n * p) ** 2) / (n* p)\n",
    "print(sum(stat))"
   ]
  },
  {
   "cell_type": "code",
   "execution_count": null,
   "metadata": {},
   "outputs": [],
   "source": []
  },
  {
   "cell_type": "code",
   "execution_count": null,
   "metadata": {},
   "outputs": [],
   "source": []
  },
  {
   "cell_type": "code",
   "execution_count": null,
   "metadata": {},
   "outputs": [],
   "source": [
    "для равенства дисперсий, ИЗВЕСТНЫ сигма с крышкой"
   ]
  },
  {
   "cell_type": "code",
   "execution_count": 3,
   "metadata": {},
   "outputs": [
    {
     "name": "stdout",
     "output_type": "stream",
     "text": [
      "Statistics 0.8402777777777778\n",
      "Quantails 0.6242251965010158 1.647074731879087\n",
      "p-value 1.462266590438618\n"
     ]
    },
    {
     "data": {
      "text/plain": [
       "0.01700302264763276"
      ]
     },
     "execution_count": 3,
     "metadata": {},
     "output_type": "execute_result"
    }
   ],
   "source": [
    "import pandas as pd\n",
    "import numpy as np\n",
    "from scipy import stats\n",
    "\n",
    "X = pd.Series([-1.11, -6.1, 2.42, -0.09, -0.17])\n",
    "Y = pd.Series([-2.88, -0.24, 1.78, -3.13, 1.71])\n",
    "\n",
    "def mean_test_1(n = 40, m = 60, alpha =0.1, b_x = 55*55, b_y = 60*60, type = 1):\n",
    "    t_stat = b_x / b_y\n",
    "    if type == 1: # !=\n",
    "        t_cr_1 = stats.f.ppf(alpha / 2, m - 1, n-1)\n",
    "        t_cr_2 = stats.f.ppf(1 - alpha / 2, m - 1, n-1)\n",
    "        p_val = 2*(1 - stats.f.cdf(abs(t_stat), m - 1, n-1))\n",
    "        print(\"Statistics\", t_stat)\n",
    "        print(\"Quantails\", t_cr_1, t_cr_2)\n",
    "        print(\"p-value\", p_val)\n",
    "    elif type == 2: \n",
    "            # H_1: mu > hyp\n",
    "            t_cr_1 = 0\n",
    "            t_cr_2 = stats.f.ppf(1 - alpha, m - 1, n-1)\n",
    "            p_val = 1 - stats.f.cdf(t_stat, m - 1, n-1)\n",
    "            print(\"Statistics\", t_stat)\n",
    "            print(\"Quantails\", t_cr_1, t_cr_2)\n",
    "            print(\"p-value\", p_val)\n",
    "    else: # H_3: mu < hyp\n",
    "                t_cr_1 = stats.f.ppf(alpha, m - 1, n-1)\n",
    "                t_cr_2 = '+inf'\n",
    "                p_val = stats.f.cdf(t_stat, m-1, n - 1)\n",
    "                print(\"Statistics\", t_stat)\n",
    "                print(\"Quantails\", t_cr_1, t_cr_2)\n",
    "                print(\"p-value\", p_val)\n",
    "\n",
    "\n",
    "mean_test_1()\n",
    "\n",
    "\n",
    "1 - stats.norm.cdf(2.12)"
   ]
  },
  {
   "cell_type": "code",
   "execution_count": null,
   "metadata": {},
   "outputs": [],
   "source": []
  },
  {
   "cell_type": "code",
   "execution_count": null,
   "metadata": {},
   "outputs": [],
   "source": [
    "для равенства диспресий, НЕИЗВЕСТНЫ сигма с крышкой, ИЗВЕСТНЫ выборки"
   ]
  },
  {
   "cell_type": "code",
   "execution_count": 51,
   "metadata": {},
   "outputs": [
    {
     "name": "stdout",
     "output_type": "stream",
     "text": [
      "Statistics 95.34460631286849\n",
      "Quantails 0 199.49999999999972\n",
      "p-value 0.07222726389046208\n"
     ]
    },
    {
     "data": {
      "text/plain": [
       "0.01700302264763276"
      ]
     },
     "execution_count": 51,
     "metadata": {},
     "output_type": "execute_result"
    }
   ],
   "source": [
    "import pandas as pd\n",
    "import numpy as np\n",
    "from scipy import stats\n",
    "\n",
    "X = pd.Series([-1.11, -6.1, 2.42])\n",
    "Y = pd.Series([-2.29, -2.91])\n",
    "\n",
    "def mean_test_1(datax = X, datay = Y, alpha =0.05, type = 2):\n",
    "    m = len(datax)\n",
    "    n = len(datay)\n",
    "    datax_mean = datax.mean()\n",
    "    datay_mean = datay.mean()\n",
    "    t_stat = (np.sum((datax - datax_mean)**2)/(m-1)) /np.sum((datay - datay_mean)**2)/(n-1)\n",
    "    if type == 1: # !=\n",
    "        t_cr_1 = stats.f.ppf(alpha / 2, m - 1, n-1)\n",
    "        t_cr_2 = stats.f.ppf(1 - alpha / 2, m - 1, n-1)\n",
    "        p_val = 2*(1 - stats.f.cdf(abs(t_stat), m - 1))\n",
    "        print(\"Statistics\", t_stat)\n",
    "        print(\"Quantails\", t_cr_1, t_cr_2)\n",
    "        print(\"p-value\", p_val)\n",
    "    elif type == 2: \n",
    "            # H_1: mu > hyp\n",
    "            t_cr_1 = 0\n",
    "            t_cr_2 = stats.f.ppf(1 - alpha, m - 1, n-1)\n",
    "            p_val = 1 - stats.f.cdf(t_stat, m - 1, n-1)\n",
    "            print(\"Statistics\", t_stat)\n",
    "            print(\"Quantails\", t_cr_1, t_cr_2)\n",
    "            print(\"p-value\", p_val)\n",
    "    else: # H_3: mu < hyp\n",
    "                t_cr_1 = stats.f.ppf(alpha, m - 1, n-1)\n",
    "                t_cr_2 = '+inf'\n",
    "                p_val = stats.f.cdf(t_stat, n - 1)\n",
    "                print(\"Statistics\", t_stat)\n",
    "                print(\"Quantails\", t_cr_1, t_cr_2)\n",
    "                print(\"p-value\", p_val)\n",
    "\n",
    "\n",
    "mean_test_1()\n",
    "\n",
    "\n",
    "1 - stats.norm.cdf(2.12)"
   ]
  },
  {
   "cell_type": "code",
   "execution_count": null,
   "metadata": {},
   "outputs": [],
   "source": []
  },
  {
   "cell_type": "code",
   "execution_count": 14,
   "metadata": {},
   "outputs": [
    {
     "name": "stdout",
     "output_type": "stream",
     "text": [
      "1 2 3 4\n"
     ]
    }
   ],
   "source": [
    "import numpy as np\n",
    "from scipy import stats\n",
    "\n",
    "p = 0.25\n",
    "alpha = 0.01\n",
    "x = list(map(float, input().split(' ')))\n",
    "x = np.array(x)\n",
    "n = sum(x)"
   ]
  },
  {
   "cell_type": "code",
   "execution_count": 10,
   "metadata": {},
   "outputs": [
    {
     "name": "stdout",
     "output_type": "stream",
     "text": [
      "0 83 145 132 73 24 3 3 0 3\n"
     ]
    },
    {
     "data": {
      "text/plain": [
       "array([0.0013, 0.0108, 0.0545, 0.1598, 0.2733, 0.2733, 0.1598, 0.0545,\n",
       "       0.0108, 0.0013])"
      ]
     },
     "execution_count": 10,
     "metadata": {},
     "output_type": "execute_result"
    }
   ],
   "source": [
    "import numpy as np\n",
    "from scipy import stats\n",
    "\n",
    "alpha = 0.01\n",
    "x = list(map(float, input().split(' ')))\n",
    "x = np.array(x)\n",
    "n = sum(x)\n",
    "p1 = 0.0013\n",
    "p2 = 0.0108\n",
    "p3 = 0.0545\n",
    "p4 = 0.1598\n",
    "p5 = 0.2733\n",
    "p = 0.2733\n",
    "p6 = 0.1598\n",
    "p7 = 0.0545\n",
    "p8 = 0.0108\n",
    "p9 = 0.0013\n",
    "p = np.array([p1, p2, p3, p4, p5, p, p6, p7, p8, p9])\n",
    "\n",
    "p"
   ]
  },
  {
   "cell_type": "code",
   "execution_count": 11,
   "metadata": {},
   "outputs": [
    {
     "data": {
      "text/plain": [
       "2026.0751438669975"
      ]
     },
     "execution_count": 11,
     "metadata": {},
     "output_type": "execute_result"
    }
   ],
   "source": [
    "stat = sum((x - n * p)**2 / (n*p) )\n",
    "stat"
   ]
  },
  {
   "cell_type": "code",
   "execution_count": 12,
   "metadata": {},
   "outputs": [
    {
     "data": {
      "text/plain": [
       "21.665994333461924"
      ]
     },
     "execution_count": 12,
     "metadata": {},
     "output_type": "execute_result"
    }
   ],
   "source": [
    "stats.chi2.ppf(1 - alpha, len(x) -1)"
   ]
  },
  {
   "cell_type": "code",
   "execution_count": null,
   "metadata": {},
   "outputs": [],
   "source": []
  },
  {
   "cell_type": "code",
   "execution_count": null,
   "metadata": {},
   "outputs": [],
   "source": []
  },
  {
   "cell_type": "code",
   "execution_count": null,
   "metadata": {},
   "outputs": [],
   "source": []
  }
 ],
 "metadata": {
  "kernelspec": {
   "display_name": "Python 3",
   "language": "python",
   "name": "python3"
  },
  "language_info": {
   "codemirror_mode": {
    "name": "ipython",
    "version": 3
   },
   "file_extension": ".py",
   "mimetype": "text/x-python",
   "name": "python",
   "nbconvert_exporter": "python",
   "pygments_lexer": "ipython3",
   "version": "3.7.4"
  }
 },
 "nbformat": 4,
 "nbformat_minor": 2
}
